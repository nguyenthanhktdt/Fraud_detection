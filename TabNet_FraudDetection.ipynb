{
  "nbformat": 4,
  "nbformat_minor": 0,
  "metadata": {
    "colab": {
      "provenance": []
    },
    "kernelspec": {
      "name": "python3",
      "display_name": "Python 3"
    },
    "language_info": {
      "name": "python"
    }
  },
  "cells": [
    {
      "cell_type": "code",
      "execution_count": null,
      "metadata": {
        "id": "CDgkxY6KxAAM"
      },
      "outputs": [],
      "source": [
        "import pandas as pd"
      ]
    },
    {
      "cell_type": "code",
      "source": [
        "df = pd.read_csv('/content/drive/MyDrive/Datasets/Fraud_Data.csv')\n",
        "df.head()"
      ],
      "metadata": {
        "colab": {
          "base_uri": "https://localhost:8080/",
          "height": 206
        },
        "id": "YCLmqfj4_Sb2",
        "outputId": "363633a9-2b29-4787-b2a5-7d351bf0bf67"
      },
      "execution_count": null,
      "outputs": [
        {
          "output_type": "execute_result",
          "data": {
            "text/plain": [
              "   user_id          signup_time        purchase_time  purchase_value  \\\n",
              "0    22058  2015-02-24 22:55:49  2015-04-18 02:47:11              34   \n",
              "1   333320  2015-06-07 20:39:50  2015-06-08 01:38:54              16   \n",
              "2     1359  2015-01-01 18:52:44  2015-01-01 18:52:45              15   \n",
              "3   150084  2015-04-28 21:13:25  2015-05-04 13:54:50              44   \n",
              "4   221365  2015-07-21 07:09:52  2015-09-09 18:40:53              39   \n",
              "\n",
              "       device_id source browser sex  age    ip_address  class  \n",
              "0  QVPSPJUOCKZAR    SEO  Chrome   M   39  7.327584e+08      0  \n",
              "1  EOGFQPIZPYXFZ    Ads  Chrome   F   53  3.503114e+08      0  \n",
              "2  YSSKYOSJHPPLJ    SEO   Opera   M   53  2.621474e+09      1  \n",
              "3  ATGTXKYKUDUQN    SEO  Safari   M   41  3.840542e+09      0  \n",
              "4  NAUITBZFJKHWW    Ads  Safari   M   45  4.155831e+08      0  "
            ],
            "text/html": [
              "\n",
              "  <div id=\"df-7635b045-8ebe-462f-b717-15e58e77dc02\" class=\"colab-df-container\">\n",
              "    <div>\n",
              "<style scoped>\n",
              "    .dataframe tbody tr th:only-of-type {\n",
              "        vertical-align: middle;\n",
              "    }\n",
              "\n",
              "    .dataframe tbody tr th {\n",
              "        vertical-align: top;\n",
              "    }\n",
              "\n",
              "    .dataframe thead th {\n",
              "        text-align: right;\n",
              "    }\n",
              "</style>\n",
              "<table border=\"1\" class=\"dataframe\">\n",
              "  <thead>\n",
              "    <tr style=\"text-align: right;\">\n",
              "      <th></th>\n",
              "      <th>user_id</th>\n",
              "      <th>signup_time</th>\n",
              "      <th>purchase_time</th>\n",
              "      <th>purchase_value</th>\n",
              "      <th>device_id</th>\n",
              "      <th>source</th>\n",
              "      <th>browser</th>\n",
              "      <th>sex</th>\n",
              "      <th>age</th>\n",
              "      <th>ip_address</th>\n",
              "      <th>class</th>\n",
              "    </tr>\n",
              "  </thead>\n",
              "  <tbody>\n",
              "    <tr>\n",
              "      <th>0</th>\n",
              "      <td>22058</td>\n",
              "      <td>2015-02-24 22:55:49</td>\n",
              "      <td>2015-04-18 02:47:11</td>\n",
              "      <td>34</td>\n",
              "      <td>QVPSPJUOCKZAR</td>\n",
              "      <td>SEO</td>\n",
              "      <td>Chrome</td>\n",
              "      <td>M</td>\n",
              "      <td>39</td>\n",
              "      <td>7.327584e+08</td>\n",
              "      <td>0</td>\n",
              "    </tr>\n",
              "    <tr>\n",
              "      <th>1</th>\n",
              "      <td>333320</td>\n",
              "      <td>2015-06-07 20:39:50</td>\n",
              "      <td>2015-06-08 01:38:54</td>\n",
              "      <td>16</td>\n",
              "      <td>EOGFQPIZPYXFZ</td>\n",
              "      <td>Ads</td>\n",
              "      <td>Chrome</td>\n",
              "      <td>F</td>\n",
              "      <td>53</td>\n",
              "      <td>3.503114e+08</td>\n",
              "      <td>0</td>\n",
              "    </tr>\n",
              "    <tr>\n",
              "      <th>2</th>\n",
              "      <td>1359</td>\n",
              "      <td>2015-01-01 18:52:44</td>\n",
              "      <td>2015-01-01 18:52:45</td>\n",
              "      <td>15</td>\n",
              "      <td>YSSKYOSJHPPLJ</td>\n",
              "      <td>SEO</td>\n",
              "      <td>Opera</td>\n",
              "      <td>M</td>\n",
              "      <td>53</td>\n",
              "      <td>2.621474e+09</td>\n",
              "      <td>1</td>\n",
              "    </tr>\n",
              "    <tr>\n",
              "      <th>3</th>\n",
              "      <td>150084</td>\n",
              "      <td>2015-04-28 21:13:25</td>\n",
              "      <td>2015-05-04 13:54:50</td>\n",
              "      <td>44</td>\n",
              "      <td>ATGTXKYKUDUQN</td>\n",
              "      <td>SEO</td>\n",
              "      <td>Safari</td>\n",
              "      <td>M</td>\n",
              "      <td>41</td>\n",
              "      <td>3.840542e+09</td>\n",
              "      <td>0</td>\n",
              "    </tr>\n",
              "    <tr>\n",
              "      <th>4</th>\n",
              "      <td>221365</td>\n",
              "      <td>2015-07-21 07:09:52</td>\n",
              "      <td>2015-09-09 18:40:53</td>\n",
              "      <td>39</td>\n",
              "      <td>NAUITBZFJKHWW</td>\n",
              "      <td>Ads</td>\n",
              "      <td>Safari</td>\n",
              "      <td>M</td>\n",
              "      <td>45</td>\n",
              "      <td>4.155831e+08</td>\n",
              "      <td>0</td>\n",
              "    </tr>\n",
              "  </tbody>\n",
              "</table>\n",
              "</div>\n",
              "    <div class=\"colab-df-buttons\">\n",
              "\n",
              "  <div class=\"colab-df-container\">\n",
              "    <button class=\"colab-df-convert\" onclick=\"convertToInteractive('df-7635b045-8ebe-462f-b717-15e58e77dc02')\"\n",
              "            title=\"Convert this dataframe to an interactive table.\"\n",
              "            style=\"display:none;\">\n",
              "\n",
              "  <svg xmlns=\"http://www.w3.org/2000/svg\" height=\"24px\" viewBox=\"0 -960 960 960\">\n",
              "    <path d=\"M120-120v-720h720v720H120Zm60-500h600v-160H180v160Zm220 220h160v-160H400v160Zm0 220h160v-160H400v160ZM180-400h160v-160H180v160Zm440 0h160v-160H620v160ZM180-180h160v-160H180v160Zm440 0h160v-160H620v160Z\"/>\n",
              "  </svg>\n",
              "    </button>\n",
              "\n",
              "  <style>\n",
              "    .colab-df-container {\n",
              "      display:flex;\n",
              "      gap: 12px;\n",
              "    }\n",
              "\n",
              "    .colab-df-convert {\n",
              "      background-color: #E8F0FE;\n",
              "      border: none;\n",
              "      border-radius: 50%;\n",
              "      cursor: pointer;\n",
              "      display: none;\n",
              "      fill: #1967D2;\n",
              "      height: 32px;\n",
              "      padding: 0 0 0 0;\n",
              "      width: 32px;\n",
              "    }\n",
              "\n",
              "    .colab-df-convert:hover {\n",
              "      background-color: #E2EBFA;\n",
              "      box-shadow: 0px 1px 2px rgba(60, 64, 67, 0.3), 0px 1px 3px 1px rgba(60, 64, 67, 0.15);\n",
              "      fill: #174EA6;\n",
              "    }\n",
              "\n",
              "    .colab-df-buttons div {\n",
              "      margin-bottom: 4px;\n",
              "    }\n",
              "\n",
              "    [theme=dark] .colab-df-convert {\n",
              "      background-color: #3B4455;\n",
              "      fill: #D2E3FC;\n",
              "    }\n",
              "\n",
              "    [theme=dark] .colab-df-convert:hover {\n",
              "      background-color: #434B5C;\n",
              "      box-shadow: 0px 1px 3px 1px rgba(0, 0, 0, 0.15);\n",
              "      filter: drop-shadow(0px 1px 2px rgba(0, 0, 0, 0.3));\n",
              "      fill: #FFFFFF;\n",
              "    }\n",
              "  </style>\n",
              "\n",
              "    <script>\n",
              "      const buttonEl =\n",
              "        document.querySelector('#df-7635b045-8ebe-462f-b717-15e58e77dc02 button.colab-df-convert');\n",
              "      buttonEl.style.display =\n",
              "        google.colab.kernel.accessAllowed ? 'block' : 'none';\n",
              "\n",
              "      async function convertToInteractive(key) {\n",
              "        const element = document.querySelector('#df-7635b045-8ebe-462f-b717-15e58e77dc02');\n",
              "        const dataTable =\n",
              "          await google.colab.kernel.invokeFunction('convertToInteractive',\n",
              "                                                    [key], {});\n",
              "        if (!dataTable) return;\n",
              "\n",
              "        const docLinkHtml = 'Like what you see? Visit the ' +\n",
              "          '<a target=\"_blank\" href=https://colab.research.google.com/notebooks/data_table.ipynb>data table notebook</a>'\n",
              "          + ' to learn more about interactive tables.';\n",
              "        element.innerHTML = '';\n",
              "        dataTable['output_type'] = 'display_data';\n",
              "        await google.colab.output.renderOutput(dataTable, element);\n",
              "        const docLink = document.createElement('div');\n",
              "        docLink.innerHTML = docLinkHtml;\n",
              "        element.appendChild(docLink);\n",
              "      }\n",
              "    </script>\n",
              "  </div>\n",
              "\n",
              "\n",
              "    <div id=\"df-9fabc193-b670-43a2-8ebf-baa5f1cbe688\">\n",
              "      <button class=\"colab-df-quickchart\" onclick=\"quickchart('df-9fabc193-b670-43a2-8ebf-baa5f1cbe688')\"\n",
              "                title=\"Suggest charts\"\n",
              "                style=\"display:none;\">\n",
              "\n",
              "<svg xmlns=\"http://www.w3.org/2000/svg\" height=\"24px\"viewBox=\"0 0 24 24\"\n",
              "     width=\"24px\">\n",
              "    <g>\n",
              "        <path d=\"M19 3H5c-1.1 0-2 .9-2 2v14c0 1.1.9 2 2 2h14c1.1 0 2-.9 2-2V5c0-1.1-.9-2-2-2zM9 17H7v-7h2v7zm4 0h-2V7h2v10zm4 0h-2v-4h2v4z\"/>\n",
              "    </g>\n",
              "</svg>\n",
              "      </button>\n",
              "\n",
              "<style>\n",
              "  .colab-df-quickchart {\n",
              "      --bg-color: #E8F0FE;\n",
              "      --fill-color: #1967D2;\n",
              "      --hover-bg-color: #E2EBFA;\n",
              "      --hover-fill-color: #174EA6;\n",
              "      --disabled-fill-color: #AAA;\n",
              "      --disabled-bg-color: #DDD;\n",
              "  }\n",
              "\n",
              "  [theme=dark] .colab-df-quickchart {\n",
              "      --bg-color: #3B4455;\n",
              "      --fill-color: #D2E3FC;\n",
              "      --hover-bg-color: #434B5C;\n",
              "      --hover-fill-color: #FFFFFF;\n",
              "      --disabled-bg-color: #3B4455;\n",
              "      --disabled-fill-color: #666;\n",
              "  }\n",
              "\n",
              "  .colab-df-quickchart {\n",
              "    background-color: var(--bg-color);\n",
              "    border: none;\n",
              "    border-radius: 50%;\n",
              "    cursor: pointer;\n",
              "    display: none;\n",
              "    fill: var(--fill-color);\n",
              "    height: 32px;\n",
              "    padding: 0;\n",
              "    width: 32px;\n",
              "  }\n",
              "\n",
              "  .colab-df-quickchart:hover {\n",
              "    background-color: var(--hover-bg-color);\n",
              "    box-shadow: 0 1px 2px rgba(60, 64, 67, 0.3), 0 1px 3px 1px rgba(60, 64, 67, 0.15);\n",
              "    fill: var(--button-hover-fill-color);\n",
              "  }\n",
              "\n",
              "  .colab-df-quickchart-complete:disabled,\n",
              "  .colab-df-quickchart-complete:disabled:hover {\n",
              "    background-color: var(--disabled-bg-color);\n",
              "    fill: var(--disabled-fill-color);\n",
              "    box-shadow: none;\n",
              "  }\n",
              "\n",
              "  .colab-df-spinner {\n",
              "    border: 2px solid var(--fill-color);\n",
              "    border-color: transparent;\n",
              "    border-bottom-color: var(--fill-color);\n",
              "    animation:\n",
              "      spin 1s steps(1) infinite;\n",
              "  }\n",
              "\n",
              "  @keyframes spin {\n",
              "    0% {\n",
              "      border-color: transparent;\n",
              "      border-bottom-color: var(--fill-color);\n",
              "      border-left-color: var(--fill-color);\n",
              "    }\n",
              "    20% {\n",
              "      border-color: transparent;\n",
              "      border-left-color: var(--fill-color);\n",
              "      border-top-color: var(--fill-color);\n",
              "    }\n",
              "    30% {\n",
              "      border-color: transparent;\n",
              "      border-left-color: var(--fill-color);\n",
              "      border-top-color: var(--fill-color);\n",
              "      border-right-color: var(--fill-color);\n",
              "    }\n",
              "    40% {\n",
              "      border-color: transparent;\n",
              "      border-right-color: var(--fill-color);\n",
              "      border-top-color: var(--fill-color);\n",
              "    }\n",
              "    60% {\n",
              "      border-color: transparent;\n",
              "      border-right-color: var(--fill-color);\n",
              "    }\n",
              "    80% {\n",
              "      border-color: transparent;\n",
              "      border-right-color: var(--fill-color);\n",
              "      border-bottom-color: var(--fill-color);\n",
              "    }\n",
              "    90% {\n",
              "      border-color: transparent;\n",
              "      border-bottom-color: var(--fill-color);\n",
              "    }\n",
              "  }\n",
              "</style>\n",
              "\n",
              "      <script>\n",
              "        async function quickchart(key) {\n",
              "          const quickchartButtonEl =\n",
              "            document.querySelector('#' + key + ' button');\n",
              "          quickchartButtonEl.disabled = true;  // To prevent multiple clicks.\n",
              "          quickchartButtonEl.classList.add('colab-df-spinner');\n",
              "          try {\n",
              "            const charts = await google.colab.kernel.invokeFunction(\n",
              "                'suggestCharts', [key], {});\n",
              "          } catch (error) {\n",
              "            console.error('Error during call to suggestCharts:', error);\n",
              "          }\n",
              "          quickchartButtonEl.classList.remove('colab-df-spinner');\n",
              "          quickchartButtonEl.classList.add('colab-df-quickchart-complete');\n",
              "        }\n",
              "        (() => {\n",
              "          let quickchartButtonEl =\n",
              "            document.querySelector('#df-9fabc193-b670-43a2-8ebf-baa5f1cbe688 button');\n",
              "          quickchartButtonEl.style.display =\n",
              "            google.colab.kernel.accessAllowed ? 'block' : 'none';\n",
              "        })();\n",
              "      </script>\n",
              "    </div>\n",
              "\n",
              "    </div>\n",
              "  </div>\n"
            ],
            "application/vnd.google.colaboratory.intrinsic+json": {
              "type": "dataframe",
              "variable_name": "df"
            }
          },
          "metadata": {},
          "execution_count": 2
        }
      ]
    },
    {
      "cell_type": "code",
      "source": [
        "df.shape"
      ],
      "metadata": {
        "colab": {
          "base_uri": "https://localhost:8080/"
        },
        "id": "fV71ek7iABqA",
        "outputId": "e578a4f8-d0e2-449d-b981-e4a4016876a0"
      },
      "execution_count": null,
      "outputs": [
        {
          "output_type": "execute_result",
          "data": {
            "text/plain": [
              "(151112, 12)"
            ]
          },
          "metadata": {},
          "execution_count": 14
        }
      ]
    },
    {
      "cell_type": "code",
      "source": [
        "df['class'].value_counts()"
      ],
      "metadata": {
        "colab": {
          "base_uri": "https://localhost:8080/",
          "height": 178
        },
        "id": "8Tl0NuYSADvC",
        "outputId": "0a0f065e-e6d1-4725-f1bf-06a4e6685708"
      },
      "execution_count": null,
      "outputs": [
        {
          "output_type": "execute_result",
          "data": {
            "text/plain": [
              "class\n",
              "0    136961\n",
              "1     14151\n",
              "Name: count, dtype: int64"
            ],
            "text/html": [
              "<div>\n",
              "<style scoped>\n",
              "    .dataframe tbody tr th:only-of-type {\n",
              "        vertical-align: middle;\n",
              "    }\n",
              "\n",
              "    .dataframe tbody tr th {\n",
              "        vertical-align: top;\n",
              "    }\n",
              "\n",
              "    .dataframe thead th {\n",
              "        text-align: right;\n",
              "    }\n",
              "</style>\n",
              "<table border=\"1\" class=\"dataframe\">\n",
              "  <thead>\n",
              "    <tr style=\"text-align: right;\">\n",
              "      <th></th>\n",
              "      <th>count</th>\n",
              "    </tr>\n",
              "    <tr>\n",
              "      <th>class</th>\n",
              "      <th></th>\n",
              "    </tr>\n",
              "  </thead>\n",
              "  <tbody>\n",
              "    <tr>\n",
              "      <th>0</th>\n",
              "      <td>136961</td>\n",
              "    </tr>\n",
              "    <tr>\n",
              "      <th>1</th>\n",
              "      <td>14151</td>\n",
              "    </tr>\n",
              "  </tbody>\n",
              "</table>\n",
              "</div><br><label><b>dtype:</b> int64</label>"
            ]
          },
          "metadata": {},
          "execution_count": 13
        }
      ]
    },
    {
      "cell_type": "code",
      "source": [
        "print(df.dtypes)"
      ],
      "metadata": {
        "colab": {
          "base_uri": "https://localhost:8080/"
        },
        "id": "nDKvGU7FBMez",
        "outputId": "4501bf2b-2df4-4ee0-bcbc-2cf20ff17cd1"
      },
      "execution_count": null,
      "outputs": [
        {
          "output_type": "stream",
          "name": "stdout",
          "text": [
            "user_id             int64\n",
            "signup_time        object\n",
            "purchase_time      object\n",
            "purchase_value      int64\n",
            "device_id          object\n",
            "source             object\n",
            "browser            object\n",
            "sex                object\n",
            "age                 int64\n",
            "ip_address        float64\n",
            "class               int64\n",
            "dtype: object\n"
          ]
        }
      ]
    },
    {
      "cell_type": "code",
      "source": [
        "# Convert datetime columns\n",
        "df['signup_time'] = pd.to_datetime(df['signup_time'])\n",
        "df['purchase_time'] = pd.to_datetime(df['purchase_time'])\n",
        "\n",
        "# Create new feature: time difference in seconds\n",
        "df['time_diff'] = (df['purchase_time'] - df['signup_time']).dt.total_seconds()\n",
        "\n",
        "df.dropna(inplace=True)"
      ],
      "metadata": {
        "id": "3feHxrXHDOIc"
      },
      "execution_count": null,
      "outputs": []
    },
    {
      "cell_type": "code",
      "source": [
        "df['signup_month'] = df['signup_time'].dt.month\n",
        "df['signup_dayofweek'] = df['signup_time'].dt.dayofweek  # Monday=0, Sunday=6\n",
        "df['signup_hour'] = df['signup_time'].dt.hour\n",
        "\n",
        "# Extract components from 'purchase_time'\n",
        "df['purchase_month'] = df['purchase_time'].dt.month\n",
        "df['purchase_dayofweek'] = df['purchase_time'].dt.dayofweek\n",
        "df['purchase_hour'] = df['purchase_time'].dt.hour"
      ],
      "metadata": {
        "id": "z-HkAnQSeP2_"
      },
      "execution_count": null,
      "outputs": []
    },
    {
      "cell_type": "code",
      "source": [
        "#Encoding categorical features as TabNet prefers numbers\n",
        "from sklearn.preprocessing import LabelEncoder\n",
        "\n",
        "categorical_cols = [\"device_id\", \"source\", \"browser\", \"sex\"]\n",
        "for col in categorical_cols:\n",
        "    le = LabelEncoder()\n",
        "    df[col] = le.fit_transform(df[col])"
      ],
      "metadata": {
        "id": "oH7Sk1ZRQBih"
      },
      "execution_count": null,
      "outputs": []
    },
    {
      "cell_type": "code",
      "source": [
        "# Scaling numerical features\n",
        "from sklearn.preprocessing import StandardScaler\n",
        "num_cols = [\"purchase_value\", \"age\", \"ip_address\", \"time_diff\",\n",
        "            \"signup_month\", \"signup_dayofweek\", \"signup_hour\",\n",
        "            \"purchase_month\", \"purchase_dayofweek\", \"purchase_hour\"]\n",
        "scaler = StandardScaler()\n",
        "df[num_cols] = scaler.fit_transform(df[num_cols])"
      ],
      "metadata": {
        "id": "AgCzZObOQN1u"
      },
      "execution_count": null,
      "outputs": []
    },
    {
      "cell_type": "code",
      "source": [
        "print(df.dtypes)"
      ],
      "metadata": {
        "colab": {
          "base_uri": "https://localhost:8080/"
        },
        "id": "dnCVRjXfQz_Z",
        "outputId": "fc6b35fb-3f8a-4362-bb96-b5cb22c0ea2b"
      },
      "execution_count": null,
      "outputs": [
        {
          "output_type": "stream",
          "name": "stdout",
          "text": [
            "user_id                        int64\n",
            "signup_time           datetime64[ns]\n",
            "purchase_time         datetime64[ns]\n",
            "purchase_value               float64\n",
            "device_id                      int64\n",
            "source                         int64\n",
            "browser                        int64\n",
            "sex                            int64\n",
            "age                          float64\n",
            "ip_address                   float64\n",
            "class                          int64\n",
            "time_diff                    float64\n",
            "signup_month                 float64\n",
            "signup_dayofweek             float64\n",
            "signup_hour                  float64\n",
            "purchase_month               float64\n",
            "purchase_dayofweek           float64\n",
            "purchase_hour                float64\n",
            "dtype: object\n"
          ]
        }
      ]
    },
    {
      "cell_type": "code",
      "source": [
        "# Drop columns not useful for modeling\n",
        "df_model = df.drop(['user_id', 'signup_time', 'purchase_time'], axis=1)\n",
        "\n",
        "print(df_model.dtypes)"
      ],
      "metadata": {
        "colab": {
          "base_uri": "https://localhost:8080/"
        },
        "id": "9dkZohCfHfn9",
        "outputId": "dd6ea274-aaf9-441b-f5c8-2147f252476f"
      },
      "execution_count": null,
      "outputs": [
        {
          "output_type": "stream",
          "name": "stdout",
          "text": [
            "purchase_value        float64\n",
            "device_id               int64\n",
            "source                  int64\n",
            "browser                 int64\n",
            "sex                     int64\n",
            "age                   float64\n",
            "ip_address            float64\n",
            "class                   int64\n",
            "time_diff             float64\n",
            "signup_month          float64\n",
            "signup_dayofweek      float64\n",
            "signup_hour           float64\n",
            "purchase_month        float64\n",
            "purchase_dayofweek    float64\n",
            "purchase_hour         float64\n",
            "dtype: object\n"
          ]
        }
      ]
    },
    {
      "cell_type": "code",
      "source": [
        "from sklearn.model_selection import train_test_split\n",
        "\n",
        "X = df_model.drop(\"class\", axis=1)\n",
        "y = df_model[\"class\"]\n",
        "\n",
        "X_train, X_test, y_train, y_test = train_test_split(\n",
        "    X, y, test_size=0.2, stratify=y, random_state=42\n",
        ")"
      ],
      "metadata": {
        "id": "Jw_RAbfnDd3w"
      },
      "execution_count": null,
      "outputs": []
    },
    {
      "cell_type": "code",
      "source": [
        "# Debug types\n",
        "print(\"X_train types:\", set([type(x) for x in X_train.values.ravel()]))\n",
        "print(\"y_train types:\", set([type(x) for x in y_train.values.ravel()]))\n",
        "print(\"Final dtypes:\")\n",
        "print(X_train.dtypes)"
      ],
      "metadata": {
        "colab": {
          "base_uri": "https://localhost:8080/"
        },
        "id": "knSefsmURDoM",
        "outputId": "3c488776-3aa3-4876-b3ae-68c6a13ba2df"
      },
      "execution_count": null,
      "outputs": [
        {
          "output_type": "stream",
          "name": "stdout",
          "text": [
            "X_train types: {<class 'numpy.float64'>}\n",
            "y_train types: {<class 'numpy.int64'>}\n",
            "Final dtypes:\n",
            "purchase_value        float64\n",
            "device_id               int64\n",
            "source                  int64\n",
            "browser                 int64\n",
            "sex                     int64\n",
            "age                   float64\n",
            "ip_address            float64\n",
            "time_diff             float64\n",
            "signup_month          float64\n",
            "signup_dayofweek      float64\n",
            "signup_hour           float64\n",
            "purchase_month        float64\n",
            "purchase_dayofweek    float64\n",
            "purchase_hour         float64\n",
            "dtype: object\n"
          ]
        }
      ]
    },
    {
      "cell_type": "markdown",
      "source": [
        "Training and classifying with TabNet model"
      ],
      "metadata": {
        "id": "3NyGivcuFyq0"
      }
    },
    {
      "cell_type": "code",
      "source": [
        "!pip install pytorch-tabnet"
      ],
      "metadata": {
        "colab": {
          "base_uri": "https://localhost:8080/"
        },
        "collapsed": true,
        "id": "Ip9semUWFyWW",
        "outputId": "1a09677a-45af-47b5-d0fa-53ea800c997d"
      },
      "execution_count": null,
      "outputs": [
        {
          "output_type": "stream",
          "name": "stdout",
          "text": [
            "Collecting pytorch-tabnet\n",
            "  Downloading pytorch_tabnet-4.1.0-py3-none-any.whl.metadata (15 kB)\n",
            "Requirement already satisfied: numpy>=1.17 in /usr/local/lib/python3.11/dist-packages (from pytorch-tabnet) (2.0.2)\n",
            "Requirement already satisfied: scikit_learn>0.21 in /usr/local/lib/python3.11/dist-packages (from pytorch-tabnet) (1.6.1)\n",
            "Requirement already satisfied: scipy>1.4 in /usr/local/lib/python3.11/dist-packages (from pytorch-tabnet) (1.15.3)\n",
            "Requirement already satisfied: torch>=1.3 in /usr/local/lib/python3.11/dist-packages (from pytorch-tabnet) (2.6.0+cu124)\n",
            "Requirement already satisfied: tqdm>=4.36 in /usr/local/lib/python3.11/dist-packages (from pytorch-tabnet) (4.67.1)\n",
            "Requirement already satisfied: joblib>=1.2.0 in /usr/local/lib/python3.11/dist-packages (from scikit_learn>0.21->pytorch-tabnet) (1.5.1)\n",
            "Requirement already satisfied: threadpoolctl>=3.1.0 in /usr/local/lib/python3.11/dist-packages (from scikit_learn>0.21->pytorch-tabnet) (3.6.0)\n",
            "Requirement already satisfied: filelock in /usr/local/lib/python3.11/dist-packages (from torch>=1.3->pytorch-tabnet) (3.18.0)\n",
            "Requirement already satisfied: typing-extensions>=4.10.0 in /usr/local/lib/python3.11/dist-packages (from torch>=1.3->pytorch-tabnet) (4.14.0)\n",
            "Requirement already satisfied: networkx in /usr/local/lib/python3.11/dist-packages (from torch>=1.3->pytorch-tabnet) (3.5)\n",
            "Requirement already satisfied: jinja2 in /usr/local/lib/python3.11/dist-packages (from torch>=1.3->pytorch-tabnet) (3.1.6)\n",
            "Requirement already satisfied: fsspec in /usr/local/lib/python3.11/dist-packages (from torch>=1.3->pytorch-tabnet) (2025.3.2)\n",
            "Collecting nvidia-cuda-nvrtc-cu12==12.4.127 (from torch>=1.3->pytorch-tabnet)\n",
            "  Downloading nvidia_cuda_nvrtc_cu12-12.4.127-py3-none-manylinux2014_x86_64.whl.metadata (1.5 kB)\n",
            "Collecting nvidia-cuda-runtime-cu12==12.4.127 (from torch>=1.3->pytorch-tabnet)\n",
            "  Downloading nvidia_cuda_runtime_cu12-12.4.127-py3-none-manylinux2014_x86_64.whl.metadata (1.5 kB)\n",
            "Collecting nvidia-cuda-cupti-cu12==12.4.127 (from torch>=1.3->pytorch-tabnet)\n",
            "  Downloading nvidia_cuda_cupti_cu12-12.4.127-py3-none-manylinux2014_x86_64.whl.metadata (1.6 kB)\n",
            "Collecting nvidia-cudnn-cu12==9.1.0.70 (from torch>=1.3->pytorch-tabnet)\n",
            "  Downloading nvidia_cudnn_cu12-9.1.0.70-py3-none-manylinux2014_x86_64.whl.metadata (1.6 kB)\n",
            "Collecting nvidia-cublas-cu12==12.4.5.8 (from torch>=1.3->pytorch-tabnet)\n",
            "  Downloading nvidia_cublas_cu12-12.4.5.8-py3-none-manylinux2014_x86_64.whl.metadata (1.5 kB)\n",
            "Collecting nvidia-cufft-cu12==11.2.1.3 (from torch>=1.3->pytorch-tabnet)\n",
            "  Downloading nvidia_cufft_cu12-11.2.1.3-py3-none-manylinux2014_x86_64.whl.metadata (1.5 kB)\n",
            "Collecting nvidia-curand-cu12==10.3.5.147 (from torch>=1.3->pytorch-tabnet)\n",
            "  Downloading nvidia_curand_cu12-10.3.5.147-py3-none-manylinux2014_x86_64.whl.metadata (1.5 kB)\n",
            "Collecting nvidia-cusolver-cu12==11.6.1.9 (from torch>=1.3->pytorch-tabnet)\n",
            "  Downloading nvidia_cusolver_cu12-11.6.1.9-py3-none-manylinux2014_x86_64.whl.metadata (1.6 kB)\n",
            "Collecting nvidia-cusparse-cu12==12.3.1.170 (from torch>=1.3->pytorch-tabnet)\n",
            "  Downloading nvidia_cusparse_cu12-12.3.1.170-py3-none-manylinux2014_x86_64.whl.metadata (1.6 kB)\n",
            "Requirement already satisfied: nvidia-cusparselt-cu12==0.6.2 in /usr/local/lib/python3.11/dist-packages (from torch>=1.3->pytorch-tabnet) (0.6.2)\n",
            "Requirement already satisfied: nvidia-nccl-cu12==2.21.5 in /usr/local/lib/python3.11/dist-packages (from torch>=1.3->pytorch-tabnet) (2.21.5)\n",
            "Requirement already satisfied: nvidia-nvtx-cu12==12.4.127 in /usr/local/lib/python3.11/dist-packages (from torch>=1.3->pytorch-tabnet) (12.4.127)\n",
            "Collecting nvidia-nvjitlink-cu12==12.4.127 (from torch>=1.3->pytorch-tabnet)\n",
            "  Downloading nvidia_nvjitlink_cu12-12.4.127-py3-none-manylinux2014_x86_64.whl.metadata (1.5 kB)\n",
            "Requirement already satisfied: triton==3.2.0 in /usr/local/lib/python3.11/dist-packages (from torch>=1.3->pytorch-tabnet) (3.2.0)\n",
            "Requirement already satisfied: sympy==1.13.1 in /usr/local/lib/python3.11/dist-packages (from torch>=1.3->pytorch-tabnet) (1.13.1)\n",
            "Requirement already satisfied: mpmath<1.4,>=1.1.0 in /usr/local/lib/python3.11/dist-packages (from sympy==1.13.1->torch>=1.3->pytorch-tabnet) (1.3.0)\n",
            "Requirement already satisfied: MarkupSafe>=2.0 in /usr/local/lib/python3.11/dist-packages (from jinja2->torch>=1.3->pytorch-tabnet) (3.0.2)\n",
            "Downloading pytorch_tabnet-4.1.0-py3-none-any.whl (44 kB)\n",
            "\u001b[2K   \u001b[90m━━━━━━━━━━━━━━━━━━━━━━━━━━━━━━━━━━━━━━━━\u001b[0m \u001b[32m44.5/44.5 kB\u001b[0m \u001b[31m2.0 MB/s\u001b[0m eta \u001b[36m0:00:00\u001b[0m\n",
            "\u001b[?25hDownloading nvidia_cublas_cu12-12.4.5.8-py3-none-manylinux2014_x86_64.whl (363.4 MB)\n",
            "\u001b[2K   \u001b[90m━━━━━━━━━━━━━━━━━━━━━━━━━━━━━━━━━━━━━━━━\u001b[0m \u001b[32m363.4/363.4 MB\u001b[0m \u001b[31m4.5 MB/s\u001b[0m eta \u001b[36m0:00:00\u001b[0m\n",
            "\u001b[?25hDownloading nvidia_cuda_cupti_cu12-12.4.127-py3-none-manylinux2014_x86_64.whl (13.8 MB)\n",
            "\u001b[2K   \u001b[90m━━━━━━━━━━━━━━━━━━━━━━━━━━━━━━━━━━━━━━━━\u001b[0m \u001b[32m13.8/13.8 MB\u001b[0m \u001b[31m95.4 MB/s\u001b[0m eta \u001b[36m0:00:00\u001b[0m\n",
            "\u001b[?25hDownloading nvidia_cuda_nvrtc_cu12-12.4.127-py3-none-manylinux2014_x86_64.whl (24.6 MB)\n",
            "\u001b[2K   \u001b[90m━━━━━━━━━━━━━━━━━━━━━━━━━━━━━━━━━━━━━━━━\u001b[0m \u001b[32m24.6/24.6 MB\u001b[0m \u001b[31m73.5 MB/s\u001b[0m eta \u001b[36m0:00:00\u001b[0m\n",
            "\u001b[?25hDownloading nvidia_cuda_runtime_cu12-12.4.127-py3-none-manylinux2014_x86_64.whl (883 kB)\n",
            "\u001b[2K   \u001b[90m━━━━━━━━━━━━━━━━━━━━━━━━━━━━━━━━━━━━━━━━\u001b[0m \u001b[32m883.7/883.7 kB\u001b[0m \u001b[31m45.6 MB/s\u001b[0m eta \u001b[36m0:00:00\u001b[0m\n",
            "\u001b[?25hDownloading nvidia_cudnn_cu12-9.1.0.70-py3-none-manylinux2014_x86_64.whl (664.8 MB)\n",
            "\u001b[2K   \u001b[90m━━━━━━━━━━━━━━━━━━━━━━━━━━━━━━━━━━━━━━━━\u001b[0m \u001b[32m664.8/664.8 MB\u001b[0m \u001b[31m3.0 MB/s\u001b[0m eta \u001b[36m0:00:00\u001b[0m\n",
            "\u001b[?25hDownloading nvidia_cufft_cu12-11.2.1.3-py3-none-manylinux2014_x86_64.whl (211.5 MB)\n",
            "\u001b[2K   \u001b[90m━━━━━━━━━━━━━━━━━━━━━━━━━━━━━━━━━━━━━━━━\u001b[0m \u001b[32m211.5/211.5 MB\u001b[0m \u001b[31m5.6 MB/s\u001b[0m eta \u001b[36m0:00:00\u001b[0m\n",
            "\u001b[?25hDownloading nvidia_curand_cu12-10.3.5.147-py3-none-manylinux2014_x86_64.whl (56.3 MB)\n",
            "\u001b[2K   \u001b[90m━━━━━━━━━━━━━━━━━━━━━━━━━━━━━━━━━━━━━━━━\u001b[0m \u001b[32m56.3/56.3 MB\u001b[0m \u001b[31m12.4 MB/s\u001b[0m eta \u001b[36m0:00:00\u001b[0m\n",
            "\u001b[?25hDownloading nvidia_cusolver_cu12-11.6.1.9-py3-none-manylinux2014_x86_64.whl (127.9 MB)\n",
            "\u001b[2K   \u001b[90m━━━━━━━━━━━━━━━━━━━━━━━━━━━━━━━━━━━━━━━━\u001b[0m \u001b[32m127.9/127.9 MB\u001b[0m \u001b[31m7.3 MB/s\u001b[0m eta \u001b[36m0:00:00\u001b[0m\n",
            "\u001b[?25hDownloading nvidia_cusparse_cu12-12.3.1.170-py3-none-manylinux2014_x86_64.whl (207.5 MB)\n",
            "\u001b[2K   \u001b[90m━━━━━━━━━━━━━━━━━━━━━━━━━━━━━━━━━━━━━━━━\u001b[0m \u001b[32m207.5/207.5 MB\u001b[0m \u001b[31m6.0 MB/s\u001b[0m eta \u001b[36m0:00:00\u001b[0m\n",
            "\u001b[?25hDownloading nvidia_nvjitlink_cu12-12.4.127-py3-none-manylinux2014_x86_64.whl (21.1 MB)\n",
            "\u001b[2K   \u001b[90m━━━━━━━━━━━━━━━━━━━━━━━━━━━━━━━━━━━━━━━━\u001b[0m \u001b[32m21.1/21.1 MB\u001b[0m \u001b[31m60.0 MB/s\u001b[0m eta \u001b[36m0:00:00\u001b[0m\n",
            "\u001b[?25hInstalling collected packages: nvidia-nvjitlink-cu12, nvidia-curand-cu12, nvidia-cufft-cu12, nvidia-cuda-runtime-cu12, nvidia-cuda-nvrtc-cu12, nvidia-cuda-cupti-cu12, nvidia-cublas-cu12, nvidia-cusparse-cu12, nvidia-cudnn-cu12, nvidia-cusolver-cu12, pytorch-tabnet\n",
            "  Attempting uninstall: nvidia-nvjitlink-cu12\n",
            "    Found existing installation: nvidia-nvjitlink-cu12 12.5.82\n",
            "    Uninstalling nvidia-nvjitlink-cu12-12.5.82:\n",
            "      Successfully uninstalled nvidia-nvjitlink-cu12-12.5.82\n",
            "  Attempting uninstall: nvidia-curand-cu12\n",
            "    Found existing installation: nvidia-curand-cu12 10.3.6.82\n",
            "    Uninstalling nvidia-curand-cu12-10.3.6.82:\n",
            "      Successfully uninstalled nvidia-curand-cu12-10.3.6.82\n",
            "  Attempting uninstall: nvidia-cufft-cu12\n",
            "    Found existing installation: nvidia-cufft-cu12 11.2.3.61\n",
            "    Uninstalling nvidia-cufft-cu12-11.2.3.61:\n",
            "      Successfully uninstalled nvidia-cufft-cu12-11.2.3.61\n",
            "  Attempting uninstall: nvidia-cuda-runtime-cu12\n",
            "    Found existing installation: nvidia-cuda-runtime-cu12 12.5.82\n",
            "    Uninstalling nvidia-cuda-runtime-cu12-12.5.82:\n",
            "      Successfully uninstalled nvidia-cuda-runtime-cu12-12.5.82\n",
            "  Attempting uninstall: nvidia-cuda-nvrtc-cu12\n",
            "    Found existing installation: nvidia-cuda-nvrtc-cu12 12.5.82\n",
            "    Uninstalling nvidia-cuda-nvrtc-cu12-12.5.82:\n",
            "      Successfully uninstalled nvidia-cuda-nvrtc-cu12-12.5.82\n",
            "  Attempting uninstall: nvidia-cuda-cupti-cu12\n",
            "    Found existing installation: nvidia-cuda-cupti-cu12 12.5.82\n",
            "    Uninstalling nvidia-cuda-cupti-cu12-12.5.82:\n",
            "      Successfully uninstalled nvidia-cuda-cupti-cu12-12.5.82\n",
            "  Attempting uninstall: nvidia-cublas-cu12\n",
            "    Found existing installation: nvidia-cublas-cu12 12.5.3.2\n",
            "    Uninstalling nvidia-cublas-cu12-12.5.3.2:\n",
            "      Successfully uninstalled nvidia-cublas-cu12-12.5.3.2\n",
            "  Attempting uninstall: nvidia-cusparse-cu12\n",
            "    Found existing installation: nvidia-cusparse-cu12 12.5.1.3\n",
            "    Uninstalling nvidia-cusparse-cu12-12.5.1.3:\n",
            "      Successfully uninstalled nvidia-cusparse-cu12-12.5.1.3\n",
            "  Attempting uninstall: nvidia-cudnn-cu12\n",
            "    Found existing installation: nvidia-cudnn-cu12 9.3.0.75\n",
            "    Uninstalling nvidia-cudnn-cu12-9.3.0.75:\n",
            "      Successfully uninstalled nvidia-cudnn-cu12-9.3.0.75\n",
            "  Attempting uninstall: nvidia-cusolver-cu12\n",
            "    Found existing installation: nvidia-cusolver-cu12 11.6.3.83\n",
            "    Uninstalling nvidia-cusolver-cu12-11.6.3.83:\n",
            "      Successfully uninstalled nvidia-cusolver-cu12-11.6.3.83\n",
            "Successfully installed nvidia-cublas-cu12-12.4.5.8 nvidia-cuda-cupti-cu12-12.4.127 nvidia-cuda-nvrtc-cu12-12.4.127 nvidia-cuda-runtime-cu12-12.4.127 nvidia-cudnn-cu12-9.1.0.70 nvidia-cufft-cu12-11.2.1.3 nvidia-curand-cu12-10.3.5.147 nvidia-cusolver-cu12-11.6.1.9 nvidia-cusparse-cu12-12.3.1.170 nvidia-nvjitlink-cu12-12.4.127 pytorch-tabnet-4.1.0\n"
          ]
        }
      ]
    },
    {
      "cell_type": "code",
      "source": [
        "!pip show pytorch-tabnet"
      ],
      "metadata": {
        "colab": {
          "base_uri": "https://localhost:8080/"
        },
        "id": "tJO76yOTHq8a",
        "outputId": "fd50a6df-c1ba-4794-9e43-dab986831e7e"
      },
      "execution_count": null,
      "outputs": [
        {
          "output_type": "stream",
          "name": "stdout",
          "text": [
            "Name: pytorch-tabnet\n",
            "Version: 4.1.0\n",
            "Summary: PyTorch implementation of TabNet\n",
            "Home-page: https://github.com/dreamquark-ai/tabnet\n",
            "Author: \n",
            "Author-email: \n",
            "License: \n",
            "Location: /usr/local/lib/python3.11/dist-packages\n",
            "Requires: numpy, scikit_learn, scipy, torch, tqdm\n",
            "Required-by: \n"
          ]
        }
      ]
    },
    {
      "cell_type": "code",
      "source": [
        "from pytorch_tabnet.tab_model import TabNetClassifier\n",
        "import numpy as np\n",
        "\n",
        "clf = TabNetClassifier(seed=42)\n",
        "\n",
        "clf.fit(\n",
        "    X_train.values, y_train.values,\n",
        "    eval_set=[(X_test.values, y_test.values)],\n",
        "    eval_name=[\"val\"],\n",
        "    eval_metric=[\"accuracy\"],\n",
        "    max_epochs=50,\n",
        "    patience=10,\n",
        "    batch_size=1024,\n",
        "    virtual_batch_size=128\n",
        ")"
      ],
      "metadata": {
        "colab": {
          "base_uri": "https://localhost:8080/"
        },
        "collapsed": true,
        "id": "sC6vWXnrEpUK",
        "outputId": "5dbda98a-6beb-4cac-ee93-c40e75b6b003"
      },
      "execution_count": null,
      "outputs": [
        {
          "output_type": "stream",
          "name": "stderr",
          "text": [
            "/usr/local/lib/python3.11/dist-packages/pytorch_tabnet/abstract_model.py:82: UserWarning: Device used : cpu\n",
            "  warnings.warn(f\"Device used : {self.device}\")\n"
          ]
        },
        {
          "output_type": "stream",
          "name": "stdout",
          "text": [
            "epoch 0  | loss: 0.25756 | val_accuracy: 0.93952 |  0:00:07s\n",
            "epoch 1  | loss: 0.20213 | val_accuracy: 0.95384 |  0:00:15s\n",
            "epoch 2  | loss: 0.18898 | val_accuracy: 0.95328 |  0:00:23s\n",
            "epoch 3  | loss: 0.18646 | val_accuracy: 0.9551  |  0:00:30s\n",
            "epoch 4  | loss: 0.18344 | val_accuracy: 0.94901 |  0:00:39s\n",
            "epoch 5  | loss: 0.1822  | val_accuracy: 0.95527 |  0:00:46s\n",
            "epoch 6  | loss: 0.18122 | val_accuracy: 0.90636 |  0:00:54s\n",
            "epoch 7  | loss: 0.18068 | val_accuracy: 0.90636 |  0:01:01s\n",
            "epoch 8  | loss: 0.18277 | val_accuracy: 0.95537 |  0:01:10s\n",
            "epoch 9  | loss: 0.17941 | val_accuracy: 0.90636 |  0:01:18s\n",
            "epoch 10 | loss: 0.17863 | val_accuracy: 0.9553  |  0:01:25s\n",
            "epoch 11 | loss: 0.20223 | val_accuracy: 0.90636 |  0:01:34s\n",
            "epoch 12 | loss: 0.1968  | val_accuracy: 0.95437 |  0:01:41s\n",
            "epoch 13 | loss: 0.18677 | val_accuracy: 0.9551  |  0:01:49s\n",
            "epoch 14 | loss: 0.18148 | val_accuracy: 0.95265 |  0:01:56s\n",
            "epoch 15 | loss: 0.18087 | val_accuracy: 0.9553  |  0:02:05s\n",
            "epoch 16 | loss: 0.17994 | val_accuracy: 0.95484 |  0:02:11s\n",
            "epoch 17 | loss: 0.1798  | val_accuracy: 0.9553  |  0:02:20s\n",
            "epoch 18 | loss: 0.17986 | val_accuracy: 0.95259 |  0:02:27s\n",
            "\n",
            "Early stopping occurred at epoch 18 with best_epoch = 8 and best_val_accuracy = 0.95537\n"
          ]
        },
        {
          "output_type": "stream",
          "name": "stderr",
          "text": [
            "/usr/local/lib/python3.11/dist-packages/pytorch_tabnet/callbacks.py:172: UserWarning: Best weights from best epoch are automatically used!\n",
            "  warnings.warn(wrn_msg)\n"
          ]
        }
      ]
    },
    {
      "cell_type": "code",
      "source": [
        "from sklearn.metrics import classification_report, confusion_matrix\n",
        "\n",
        "y_pred = clf.predict(X_test.values)"
      ],
      "metadata": {
        "id": "cj0CbrK6E3nb"
      },
      "execution_count": null,
      "outputs": []
    },
    {
      "cell_type": "code",
      "source": [
        "import seaborn as sns\n",
        "import matplotlib.pyplot as plt\n",
        "from sklearn.metrics import confusion_matrix\n",
        "\n",
        "cm = confusion_matrix(y_test, y_pred)\n",
        "\n",
        "labels = ['Not Fraud', 'Fraud']\n",
        "\n",
        "plt.figure(figsize=(6, 5))\n",
        "sns.heatmap(cm, annot=True, fmt='d', cmap='Blues', xticklabels=labels, yticklabels=labels)\n",
        "plt.title('Confusion Matrix')\n",
        "plt.xlabel('Predicted')\n",
        "plt.ylabel('Actual')\n",
        "plt.tight_layout()\n",
        "plt.show()"
      ],
      "metadata": {
        "colab": {
          "base_uri": "https://localhost:8080/",
          "height": 507
        },
        "id": "gCDTVcrGU63m",
        "outputId": "f24f4020-2ea3-43dd-c4f5-a6187abfff34"
      },
      "execution_count": null,
      "outputs": [
        {
          "output_type": "display_data",
          "data": {
            "text/plain": [
              "<Figure size 600x500 with 2 Axes>"
            ],
            "image/png": "[encoded data removed]"
          },
          "metadata": {}
        }
      ]
    },
    {
      "cell_type": "code",
      "source": [
        "# Feature Importance\n",
        "import matplotlib.pyplot as plt\n",
        "\n",
        "feature_names = X_train.columns.tolist()\n",
        "importances = clf.feature_importances_\n",
        "\n",
        "plt.figure(figsize=(10, 6))\n",
        "plt.barh(feature_names, importances)\n",
        "plt.xlabel(\"Feature Importance\")\n",
        "plt.title(\"TabNet Feature Importance\")\n",
        "plt.gca().invert_yaxis()\n",
        "plt.show()"
      ],
      "metadata": {
        "colab": {
          "base_uri": "https://localhost:8080/",
          "height": 564
        },
        "id": "9MU9PhgGQ2tq",
        "outputId": "c3d2b433-9f51-4067-d680-8bbe5d0cbb07"
      },
      "execution_count": null,
      "outputs": [
        {
          "output_type": "display_data",
          "data": {
            "text/plain": [
              "<Figure size 1000x600 with 1 Axes>"
            ],
            "image/png": "[encoded data removed]"
          },
          "metadata": {}
        }
      ]
    },
    {
      "cell_type": "code",
      "source": [
        "from sklearn.metrics import classification_report, roc_auc_score, f1_score\n",
        "\n",
        "print(\"TabNet Classification Report:\")\n",
        "print(classification_report(y_test, y_pred, target_names=labels))\n",
        "\n",
        "# Predict probabilities for ROC-AUC\n",
        "y_proba = clf.predict_proba(X_test.values)[:, 1]\n",
        "\n",
        "# F1-score\n",
        "f1 = f1_score(y_test, y_pred)\n",
        "print(f\"F1 Score: {f1:.4f}\")\n",
        "\n",
        "# ROC-AUC\n",
        "roc_auc = roc_auc_score(y_test, y_proba)\n",
        "print(f\"ROC-AUC Score: {roc_auc:.4f}\")"
      ],
      "metadata": {
        "colab": {
          "base_uri": "https://localhost:8080/"
        },
        "id": "xj9AdkhfWoXf",
        "outputId": "188d7adc-396f-4def-8e4e-2c8bb2d8d95f"
      },
      "execution_count": null,
      "outputs": [
        {
          "output_type": "stream",
          "name": "stdout",
          "text": [
            "TabNet Classification Report:\n",
            "              precision    recall  f1-score   support\n",
            "\n",
            "   Not Fraud       0.95      1.00      0.98     27393\n",
            "       Fraud       0.99      0.53      0.69      2830\n",
            "\n",
            "    accuracy                           0.96     30223\n",
            "   macro avg       0.97      0.76      0.83     30223\n",
            "weighted avg       0.96      0.96      0.95     30223\n",
            "\n",
            "F1 Score: 0.6885\n",
            "ROC-AUC Score: 0.7632\n"
          ]
        }
      ]
    },
    {
      "cell_type": "code",
      "source": [
        "from sklearn.metrics import roc_curve\n",
        "\n",
        "fpr, tpr, thresholds = roc_curve(y_test, y_proba)\n",
        "\n",
        "plt.figure(figsize=(8, 6))\n",
        "plt.plot(fpr, tpr, color='blue', label=f'ROC Curve (AUC = {roc_auc:.4f})')\n",
        "plt.plot([0, 1], [0, 1], color='gray', linestyle='--')\n",
        "plt.xlabel('False Positive Rate')\n",
        "plt.ylabel('True Positive Rate')\n",
        "plt.title('TabNet ROC Curve')\n",
        "plt.legend(loc='lower right')\n",
        "plt.grid(True)\n",
        "plt.tight_layout()\n",
        "plt.show()"
      ],
      "metadata": {
        "colab": {
          "base_uri": "https://localhost:8080/",
          "height": 607
        },
        "id": "0zkRxkT9XCEN",
        "outputId": "1a117a0f-4770-4c82-e696-82d17fa06cdc"
      },
      "execution_count": null,
      "outputs": [
        {
          "output_type": "display_data",
          "data": {
            "text/plain": [
              "<Figure size 800x600 with 1 Axes>"
            ],
            "image/png": "[encoded data removed]"
          },
          "metadata": {}
        }
      ]
    },
    {
      "cell_type": "markdown",
      "source": [
        "SMOTEENN - It helps balancing the classes by generating synthetic samples of the minority class."
      ],
      "metadata": {
        "id": "2kkMMXe3urBY"
      }
    },
    {
      "cell_type": "code",
      "source": [
        "from imblearn.combine import SMOTEENN\n",
        "from collections import Counter\n",
        "\n",
        "smote_enn = SMOTEENN(random_state=42)\n",
        "X_train_enn, y_train_enn = smote_enn.fit_resample(X_train, y_train)\n",
        "\n",
        "print(\"Original class distribution:\", Counter(y_train))\n",
        "print(\"Resampled class distribution with SMOTEENN:\", Counter(X_train_enn))\n",
        "\n",
        "clf_smoteenn = TabNetClassifier(seed=42)\n",
        "\n",
        "clf_smoteenn.fit(\n",
        "    X_train_enn.values, y_train_enn.values,\n",
        "    eval_set=[(X_test.values, y_test.values)],\n",
        "    eval_name=[\"val\"],\n",
        "    eval_metric=[\"accuracy\"],\n",
        "    max_epochs=50,\n",
        "    patience=10,\n",
        "    batch_size=1024,\n",
        "    virtual_batch_size=128\n",
        ")\n",
        "\n",
        "y_pred_smoteenn = clf_smoteenn.predict(X_test.values)"
      ],
      "metadata": {
        "colab": {
          "base_uri": "https://localhost:8080/"
        },
        "collapsed": true,
        "id": "EiXf6M_Gi2i5",
        "outputId": "26efca98-e7bf-4d8d-e905-fbb600494bca"
      },
      "execution_count": null,
      "outputs": [
        {
          "output_type": "stream",
          "name": "stdout",
          "text": [
            "Original class distribution: Counter({0: 109568, 1: 11321})\n",
            "Resampled class distribution with SMOTEENN: Counter({'purchase_value': 1, 'device_id': 1, 'source': 1, 'browser': 1, 'sex': 1, 'age': 1, 'ip_address': 1, 'time_diff': 1, 'signup_month': 1, 'signup_dayofweek': 1, 'signup_hour': 1, 'purchase_month': 1, 'purchase_dayofweek': 1, 'purchase_hour': 1})\n"
          ]
        },
        {
          "output_type": "stream",
          "name": "stderr",
          "text": [
            "/usr/local/lib/python3.11/dist-packages/pytorch_tabnet/abstract_model.py:82: UserWarning: Device used : cpu\n",
            "  warnings.warn(f\"Device used : {self.device}\")\n"
          ]
        },
        {
          "output_type": "stream",
          "name": "stdout",
          "text": [
            "epoch 0  | loss: 0.42564 | val_accuracy: 0.79502 |  0:00:08s\n",
            "epoch 1  | loss: 0.36206 | val_accuracy: 0.81187 |  0:00:17s\n",
            "epoch 2  | loss: 0.35268 | val_accuracy: 0.76931 |  0:00:26s\n",
            "epoch 3  | loss: 0.34301 | val_accuracy: 0.76647 |  0:00:35s\n",
            "epoch 4  | loss: 0.33337 | val_accuracy: 0.78139 |  0:00:45s\n",
            "epoch 5  | loss: 0.3243  | val_accuracy: 0.80604 |  0:00:54s\n",
            "epoch 6  | loss: 0.31843 | val_accuracy: 0.84244 |  0:01:03s\n",
            "epoch 7  | loss: 0.33176 | val_accuracy: 0.80386 |  0:01:13s\n",
            "epoch 8  | loss: 0.31071 | val_accuracy: 0.82546 |  0:01:22s\n",
            "epoch 9  | loss: 0.32373 | val_accuracy: 0.82996 |  0:01:30s\n",
            "epoch 10 | loss: 0.32538 | val_accuracy: 0.71803 |  0:01:40s\n",
            "epoch 11 | loss: 0.30153 | val_accuracy: 0.63859 |  0:01:48s\n",
            "epoch 12 | loss: 0.29104 | val_accuracy: 0.79042 |  0:01:57s\n",
            "epoch 13 | loss: 0.27468 | val_accuracy: 0.65903 |  0:02:07s\n",
            "epoch 14 | loss: 0.26391 | val_accuracy: 0.71654 |  0:02:15s\n",
            "epoch 15 | loss: 0.24983 | val_accuracy: 0.7762  |  0:02:25s\n",
            "epoch 16 | loss: 0.24688 | val_accuracy: 0.75932 |  0:02:35s\n",
            "\n",
            "Early stopping occurred at epoch 16 with best_epoch = 6 and best_val_accuracy = 0.84244\n"
          ]
        },
        {
          "output_type": "stream",
          "name": "stderr",
          "text": [
            "/usr/local/lib/python3.11/dist-packages/pytorch_tabnet/callbacks.py:172: UserWarning: Best weights from best epoch are automatically used!\n",
            "  warnings.warn(wrn_msg)\n"
          ]
        },
        {
          "output_type": "stream",
          "name": "stdout",
          "text": [
            "Classification Report:\n",
            "               precision    recall  f1-score   support\n",
            "\n",
            "           0       0.95      0.87      0.91     27393\n",
            "           1       0.32      0.60      0.41      2830\n",
            "\n",
            "    accuracy                           0.84     30223\n",
            "   macro avg       0.64      0.73      0.66     30223\n",
            "weighted avg       0.89      0.84      0.86     30223\n",
            "\n",
            "F1 Score: 0.4143\n"
          ]
        }
      ]
    },
    {
      "cell_type": "code",
      "source": [
        "# Classification Report\n",
        "print(\"Classification Report:\\n\", classification_report(y_test, y_pred_smoteenn))\n",
        "\n",
        "# F1 Score for Fraud class\n",
        "f1_smoteenn = f1_score(y_test, y_pred_smoteenn)\n",
        "print(\"F1 Score:\", round(f1_smoteenn, 4))\n",
        "\n",
        "# ROC AUC\n",
        "y_proba_smoteenn = clf_smoteenn.predict_proba(X_test.values)[:, 1]\n",
        "roc_smoteenn = roc_auc_score(y_test, y_proba_smoteenn)\n",
        "print(\"ROC AUC Score:\", round(roc_smoteenn, 4))"
      ],
      "metadata": {
        "colab": {
          "base_uri": "https://localhost:8080/"
        },
        "id": "xeyGAjR4knha",
        "outputId": "4771a551-c4cb-40ba-d9a6-9dd8a178cc3e"
      },
      "execution_count": null,
      "outputs": [
        {
          "output_type": "stream",
          "name": "stdout",
          "text": [
            "Classification Report:\n",
            "               precision    recall  f1-score   support\n",
            "\n",
            "           0       0.95      0.87      0.91     27393\n",
            "           1       0.32      0.60      0.41      2830\n",
            "\n",
            "    accuracy                           0.84     30223\n",
            "   macro avg       0.64      0.73      0.66     30223\n",
            "weighted avg       0.89      0.84      0.86     30223\n",
            "\n",
            "F1 Score: 0.4143\n",
            "ROC AUC Score: 0.7623\n"
          ]
        }
      ]
    },
    {
      "cell_type": "code",
      "source": [
        "# Confusion Matrix\n",
        "cm_smoteenn = confusion_matrix(y_test, y_pred_smoteenn)\n",
        "labels = ['Not Fraud', 'Fraud']\n",
        "plt.figure(figsize=(6, 5))\n",
        "sns.heatmap(cm_smoteenn, annot=True, fmt='d', cmap='Blues', xticklabels=labels, yticklabels=labels)\n",
        "plt.title('Confusion Matrix (after SMOTEENN)')\n",
        "plt.xlabel('Predicted')\n",
        "plt.ylabel('Actual')\n",
        "plt.tight_layout()\n",
        "plt.show()"
      ],
      "metadata": {
        "colab": {
          "base_uri": "https://localhost:8080/",
          "height": 507
        },
        "id": "i-KyVgYci7cg",
        "outputId": "18065a71-f915-4315-95e5-15ccbae2af54"
      },
      "execution_count": null,
      "outputs": [
        {
          "output_type": "display_data",
          "data": {
            "text/plain": [
              "<Figure size 600x500 with 2 Axes>"
            ],
            "image/png": "[encoded data removed]"
          },
          "metadata": {}
        }
      ]
    },
    {
      "cell_type": "code",
      "source": [
        "# ROC Curve\n",
        "fpr_smoteenn, tpr_smoteenn, thresholds_smoteenn = roc_curve(y_test, y_proba_smoteenn)\n",
        "plt.figure(figsize=(8, 6))\n",
        "plt.plot(fpr_smoteenn, tpr_smoteenn, color='blue', label=f'ROC Curve (AUC = {roc_smoteenn:.4f})')\n",
        "plt.plot([0, 1], [0, 1], color='gray', linestyle='--')\n",
        "plt.xlabel('False Positive Rate')\n",
        "plt.ylabel('True Positive Rate')\n",
        "plt.title('TabNet ROC Curve (after SMOTEENN)')\n",
        "plt.legend(loc='lower right')\n",
        "plt.grid(True)\n",
        "plt.tight_layout()\n",
        "plt.show()"
      ],
      "metadata": {
        "colab": {
          "base_uri": "https://localhost:8080/",
          "height": 607
        },
        "id": "FkprOtbgi4qb",
        "outputId": "de3b54d5-64ed-44eb-8450-c4d4454791d3"
      },
      "execution_count": null,
      "outputs": [
        {
          "output_type": "display_data",
          "data": {
            "text/plain": [
              "<Figure size 800x600 with 1 Axes>"
            ],
            "image/png": "[encoded data removed]"
          },
          "metadata": {}
        }
      ]
    }
  ]
}